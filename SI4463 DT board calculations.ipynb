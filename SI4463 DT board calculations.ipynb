{
 "cells": [
  {
   "attachments": {},
   "cell_type": "markdown",
   "metadata": {},
   "source": [
    "## SI4463 Class-E Match for Direct Tie Board Configuration @435MHz"
   ]
  },
  {
   "cell_type": "markdown",
   "metadata": {},
   "source": [
    "These calculations are based on the datasheet AN648"
   ]
  },
  {
   "cell_type": "markdown",
   "metadata": {},
   "source": [
    "### Parameters & Imports"
   ]
  },
  {
   "cell_type": "code",
   "execution_count": 1,
   "metadata": {},
   "outputs": [],
   "source": [
    "#Gebaseerd op AN648\n",
    "import math\n",
    "import cmath\n",
    "import numpy\n",
    "from si_prefix import si_format\n",
    "from eseries import find_nearest, E12\n",
    "\n",
    "\n",
    "freq = 436e6 #Hz\n",
    "TxGain = 20 #dBm\n",
    "Vdd = 3.3 #V\n",
    "\n",
    "C0 = 8.2e-12 # can be freely chosen\n",
    "\n",
    "CLNA = 0.97 * 10**(-12)\n",
    "RLNA = 480\n",
    "ReAnt = 50\n",
    "ImAnt = 0\n",
    "CShunt =  2.5e-12\n",
    "\n",
    "Pout = 10**(TxGain/10)*1e-3 #Output power in Watt\n",
    "WRF = freq * math.pi * 2"
   ]
  },
  {
   "cell_type": "markdown",
   "metadata": {},
   "source": [
    "#### Step #1 Select a value for  Lchoke pull-up Inductor"
   ]
  },
  {
   "attachments": {},
   "cell_type": "markdown",
   "metadata": {},
   "source": [
    "Based on the values recommended by the datasheet for a frequency of 433MHz the value should be around 253.9nH. Found by using regression (power => $y = 556030x^{-1.267}$)"
   ]
  },
  {
   "cell_type": "code",
   "execution_count": 12,
   "metadata": {},
   "outputs": [
    {
     "name": "stdout",
     "output_type": "stream",
     "text": [
      "Lchoke: 253.9 n\n"
     ]
    }
   ],
   "source": [
    "Lc = 253.9e-9\n",
    "print(\"Lchoke: \" + si_format(Lc))"
   ]
  },
  {
   "cell_type": "markdown",
   "metadata": {},
   "source": [
    "#### Step #2: Choose/Calculate Values for L0-C0 Series-Resonant Tank"
   ]
  },
  {
   "cell_type": "code",
   "execution_count": 13,
   "metadata": {},
   "outputs": [],
   "source": [
    "L0 = 1 / ((math.pi * freq * 2)**2 * C0)\n",
    "L0 = L0 * 1.2 # mistuning for direct tie"
   ]
  },
  {
   "cell_type": "markdown",
   "metadata": {},
   "source": [
    "#### Step #3: Calculate the Required Value for ZLOAD"
   ]
  },
  {
   "cell_type": "code",
   "execution_count": 14,
   "metadata": {},
   "outputs": [
    {
     "name": "stdout",
     "output_type": "stream",
     "text": [
      "(26.999445848719645+31.11673900457209j)\n"
     ]
    }
   ],
   "source": [
    "angle = math.radians(49.0524)\n",
    "Zload = (0.2815 / (2 * math.pi * freq * CShunt))* cmath.exp(1j*angle)\n",
    "print(Zload)"
   ]
  },
  {
   "cell_type": "markdown",
   "metadata": {},
   "source": [
    "#### Step # 4: Calculate the Required Value for Voltage-Limiting Resistor RDC"
   ]
  },
  {
   "cell_type": "code",
   "execution_count": 21,
   "metadata": {},
   "outputs": [
    {
     "name": "stdout",
     "output_type": "stream",
     "text": [
      "27.0\n"
     ]
    }
   ],
   "source": [
    "Vdd_Pa = math.sqrt(Pout / (math.pi**2 * 2 * freq * CShunt))\n",
    "Idd_Pa = math.pi**2 * 2 * freq * CShunt * Vdd_Pa\n",
    "RDC = (Vdd - Vdd_Pa) / Idd_Pa\n",
    "print(find_nearest(E12,RDC)) # it will almost always be necessary to use a smaller value of RDC than predicted by theory in order to obtain the desired value of output power. Because of losses "
   ]
  },
  {
   "cell_type": "markdown",
   "metadata": {},
   "source": [
    "#### Step #5: Calculate the Values for Matching Components LX and CM"
   ]
  },
  {
   "cell_type": "code",
   "execution_count": 16,
   "metadata": {},
   "outputs": [],
   "source": [
    "# Should be done with smith cards and is based on ZAnt and Zload\n",
    "Cm = 6.7e-12 \n",
    "Lx = 20.5e-9\n",
    "L0 = L0 + Lx"
   ]
  },
  {
   "cell_type": "markdown",
   "metadata": {},
   "source": [
    "#### Step #6: Design a Lowpass Filter"
   ]
  },
  {
   "attachments": {},
   "cell_type": "markdown",
   "metadata": {},
   "source": [
    "#### Calculating order"
   ]
  },
  {
   "cell_type": "code",
   "execution_count": 17,
   "metadata": {},
   "outputs": [
    {
     "name": "stdout",
     "output_type": "stream",
     "text": [
      "orde: 4 (Nd=3.9894211469293377)\n"
     ]
    }
   ],
   "source": [
    "a_min = 30\n",
    "ripple = 0.45\n",
    "omega_s = 2\n",
    "\n",
    "Nd = math.acosh(math.sqrt((math.pow(10, (a_min/10))-1)/(math.pow(10,(ripple/10))-1)))/(math.acosh(omega_s))\n",
    "print(f\"orde: {math.ceil(Nd)} (Nd={Nd})\")\n"
   ]
  },
  {
   "cell_type": "code",
   "execution_count": 18,
   "metadata": {},
   "outputs": [
    {
     "name": "stdout",
     "output_type": "stream",
     "text": [
      "element 1 orientation : shunt, C = 10.0 pF\n",
      "element 2 orientation : series, L = 22.0 nH\n",
      "element 3 orientation : shunt, C = 15.0 pF\n",
      "element 4 orientation : series, L = 15.0 nH\n"
     ]
    }
   ],
   "source": [
    "#based on https://www.changpuak.ch/electronics/chebyshev_lowpass.php\n",
    "\n",
    "ripple = 0.25 #dB\n",
    "z = 50 #ohm\n",
    "n = math.ceil(Nd)\n",
    "shunt = True # shunt or series\n",
    "w = WRF/1e6\n",
    "e2x = math.exp(2*ripple/17.37)\n",
    "coth = (e2x+1)/(e2x-1)\n",
    "btn = math.log(coth)/(2*n)\n",
    "gn = (math.exp(btn)-math.exp(-btn))/2\n",
    "a = numpy.zeros(n+1)\n",
    "b = numpy.zeros(n+1)\n",
    "g = numpy.zeros(n+1)\n",
    "result = \"\"\n",
    "\n",
    "for i in range(1,n+1):\n",
    "    a[i] = math.sin((2*i-1)*math.pi/(2*n))\n",
    "    k3 = math.sin(math.pi*i/n)\n",
    "    b[i] = gn**2 + k3**2\n",
    "\n",
    "g[1] = 2*a[1]/gn\n",
    "\n",
    "for i in range(2,n+1):\n",
    "    g[i] = (4*a[i-1]*a[i])/(b[i-1]*g[i-1])\n",
    "\n",
    "if shunt:\n",
    "    for i in range(1,n+1):\n",
    "        if i % 2: print(f\"element {i} orientation : shunt, C = {find_nearest(E12,round(g[i]*1e9/(z*w))/1000)} pF\")\n",
    "        else: print(f\"element {i} orientation : series, L = {find_nearest(E12,round(g[i]*1e6*z/w)/1000)} nH\")\n",
    "else: \n",
    "    for i in range(1,n+1):\n",
    "        if i % 2 == 0: print(f\"element {i} orientation : shunt, C = {find_nearest(E12,round(g[i]*1e9/(z*w))/1000)} pF\")\n",
    "        else: print(f\"element {i} orientation : series, L = {find_nearest(E12,round(g[i]*1e6*z/w)/1000)} nH\")"
   ]
  },
  {
   "cell_type": "markdown",
   "metadata": {},
   "source": [
    "#### RX imput match"
   ]
  },
  {
   "cell_type": "code",
   "execution_count": 19,
   "metadata": {},
   "outputs": [],
   "source": [
    "LLNA = 1 / (WRF**2 * CLNA)\n",
    "LR2 = math.sqrt(ReAnt * RLNA) / WRF\n",
    "LM = (2 * LR2) / (((2 * ImAnt) / (WRF * LR2)) + 1)\n",
    "LR1 = (LLNA * LM) / (LLNA + LM)\n",
    "CR2 = 1 / (WRF**2 * LR2)\n",
    "CR1 = 2 * CR2"
   ]
  },
  {
   "cell_type": "code",
   "execution_count": 20,
   "metadata": {},
   "outputs": [
    {
     "name": "stdout",
     "output_type": "stream",
     "text": [
      "Cm: 6.7 p (6.8 p)\n",
      "Lc: 253.9 n (270.0 n)\n",
      "C0: 8.2 p (8.2 p)\n",
      "L0: 40.1 n (39.0 n)\n",
      "LR1: 62.2 n (68.0 n)\n",
      "LR2: 56.7 n (56.0 n)\n",
      "CR1: 4.7 p (4.7 p)\n",
      "CR2: 2.4 p (2.2 p)\n"
     ]
    }
   ],
   "source": [
    "print(f\"Cm: {si_format(Cm)} ({si_format(find_nearest(E12, Cm))})\")\n",
    "print(f\"Lc: {si_format(Lc)} ({si_format(find_nearest(E12, Lc))})\")\n",
    "print(f\"C0: {si_format(C0)} ({si_format(find_nearest(E12, C0))})\")\n",
    "print(f\"L0: {si_format(L0)} ({si_format(find_nearest(E12, L0))})\")\n",
    "print(f\"LR1: {si_format(LR1)} ({si_format(find_nearest(E12, LR1))})\")\n",
    "print(f\"LR2: {si_format(LR2)} ({si_format(find_nearest(E12, LR2))})\")\n",
    "print(f\"CR1: {si_format(CR1)} ({si_format(find_nearest(E12, CR1))})\")\n",
    "print(f\"CR2: {si_format(CR2)} ({si_format(find_nearest(E12, CR2))})\")"
   ]
  }
 ],
 "metadata": {
  "kernelspec": {
   "display_name": "Python 3 (ipykernel)",
   "language": "python",
   "name": "python3"
  },
  "language_info": {
   "codemirror_mode": {
    "name": "ipython",
    "version": 3
   },
   "file_extension": ".py",
   "mimetype": "text/x-python",
   "name": "python",
   "nbconvert_exporter": "python",
   "pygments_lexer": "ipython3",
   "version": "3.10.3"
  },
  "vscode": {
   "interpreter": {
    "hash": "cbf9c5d4eb0dc186c38d382e738fd9a1998925bbfe4b64238d30a6312da07f05"
   }
  }
 },
 "nbformat": 4,
 "nbformat_minor": 2
}
