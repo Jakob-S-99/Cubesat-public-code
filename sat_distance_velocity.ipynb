{
 "cells": [
  {
   "attachments": {},
   "cell_type": "markdown",
   "metadata": {},
   "source": [
    "**DISCLAIMER: This code is not verified and may contain errors.**"
   ]
  },
  {
   "cell_type": "code",
   "execution_count": null,
   "metadata": {},
   "outputs": [],
   "source": [
    "import numpy as np\n",
    "import matplotlib.pyplot as plt\n",
    "\n",
    "Re = 6378000 # m    radius of earth\n",
    "hs = 420000 # m     height of satellite"
   ]
  },
  {
   "cell_type": "code",
   "execution_count": null,
   "metadata": {},
   "outputs": [],
   "source": [
    "def calculate_distance_to_satellite(angle, degrees=False):\n",
    "    if degrees:\n",
    "        angle = np.deg2rad(angle)\n",
    "    return (Re*np.sin(angle)*-1) + np.sqrt((Re * np.sin(angle))**2+ 2*Re*hs + hs**2)\n",
    "\n",
    "def calculate_fspl(distance, frequency):\n",
    "    return 20*np.log10(4*np.pi*distance*frequency/299792458)\n",
    "\n",
    "def calculate_fspl_angle(angle, frequency, degrees =False):\n",
    "    if degrees:\n",
    "        angle = np.deg2rad(angle)\n",
    "    distance = calculate_distance_to_satellite(angle)\n",
    "    return calculate_fspl(distance, frequency)\n",
    "\n",
    "\n",
    "# Frequencies in Hz\n",
    "frequencies = [2.4e9, 435e6, 146e6]\n",
    "\n",
    "# Angles in degrees\n",
    "angles = np.linspace(0, 180, 100)\n",
    "\n",
    "for frequency in frequencies:\n",
    "    fspl = []\n",
    "    for angle in angles:\n",
    "        distance = calculate_distance_to_satellite(angle, degrees=True)\n",
    "        fspl.append(calculate_fspl(distance, frequency))\n",
    "    plt.plot(angles, fspl, 'o-', label=f'{frequency/1e6:.1f} MHz')\n",
    "\n",
    "plt.xlabel('Angle (degrees)')\n",
    "plt.ylabel('FSPL (dB)')\n",
    "plt.title('FSPL in function of the angle')\n",
    "plt.legend()\n",
    "\n",
    "# Save to .tex file\n",
    "'''\n",
    "import tikzplotlib\n",
    "tikzplotlib.save(\"fspl_angle.tex\")\n",
    "'''"
   ]
  },
  {
   "cell_type": "code",
   "execution_count": null,
   "metadata": {},
   "outputs": [],
   "source": [
    "G_max = 1.68 # dBi\n",
    "\n",
    "# Define the radiation pattern function for a dipole\n",
    "def dipole_radiation_pattern(theta, degrees=False):\n",
    "    if degrees:\n",
    "        theta = np.deg2rad(theta)\n",
    "    return (G_max)*(np.cos((np.pi/2)*np.cos(theta))/np.sin(theta))**2\n",
    "\n",
    "def dipole_radiation_pattern_db(theta, degrees=False):\n",
    "    if degrees:\n",
    "        theta = np.deg2rad(theta)\n",
    "    return 10*np.log10(((np.cos((np.pi/2)*np.cos(theta))) /(np.sin(theta)))**2)+2.15\n",
    "\n",
    "# Define the range of angles to plot\n",
    "angles = np.linspace(0, 2*np.pi, 3600)\n",
    "\n",
    "# Calculate the radiation pattern for each angle\n",
    "radiation_pattern = dipole_radiation_pattern(angles)\n",
    "x = 10*np.log10(radiation_pattern)\n",
    "\n",
    "radiation_pattern_db = dipole_radiation_pattern_db(angles)\n",
    "\n",
    "# Plot the radiation pattern in a polar plot with a logarithmic scale\n",
    "fig = plt.figure()\n",
    "ax = fig.add_subplot(111, projection='polar')\n",
    "ax.plot(angles, radiation_pattern_db)\n",
    "ax.set_theta_zero_location('E')\n",
    "ax.set_rlabel_position(0)\n",
    "ax.set_rticks([-25, -15, -5,3])\n",
    "ax.set_rlim(-35, 3)\n",
    "ax.set_title('Horizontal Radiation Pattern of a Dipole (Logarithmic Scale)')\n",
    "plt.show()"
   ]
  },
  {
   "cell_type": "code",
   "execution_count": null,
   "metadata": {},
   "outputs": [],
   "source": [
    "def calculate_depiontning_loss(epsilon, degrees=False):\n",
    "    if degrees:\n",
    "        epsilon = np.deg2rad(epsilon)\n",
    "    n = np.arcsin((Re*np.cos(epsilon))/(Re+hs))\n",
    "    return dipole_radiation_pattern_db((np.pi/2)-n)\n",
    "\n",
    "\n",
    "angles = np.linspace(0, 180, 100)\n",
    "\n",
    "loss = []\n",
    "loss2 = []\n",
    "for angle in angles:\n",
    "    loss.append(calculate_depiontning_loss(angle, degrees=True))\n",
    "plt.plot(angles, loss)\n",
    "plt.xlabel('Angle (degrees)')\n",
    "plt.ylabel('antenna gain (dBi)')\n",
    "plt.title('Depointing Loss in function of the angle')\n",
    "\n",
    "# Save to .tex file\n",
    "'''\n",
    "import tikzplotlib\n",
    "tikzplotlib.save(\"depointing_loss.tex\")\n",
    "'''"
   ]
  }
 ],
 "metadata": {
  "kernelspec": {
   "display_name": "Python 3",
   "language": "python",
   "name": "python3"
  },
  "language_info": {
   "codemirror_mode": {
    "name": "ipython",
    "version": 3
   },
   "file_extension": ".py",
   "mimetype": "text/x-python",
   "name": "python",
   "nbconvert_exporter": "python",
   "pygments_lexer": "ipython3",
   "version": "3.10.3"
  },
  "orig_nbformat": 4
 },
 "nbformat": 4,
 "nbformat_minor": 2
}
