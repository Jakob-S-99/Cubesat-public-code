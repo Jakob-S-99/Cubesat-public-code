{
 "cells": [
  {
   "attachments": {},
   "cell_type": "markdown",
   "id": "a4cb6b55",
   "metadata": {},
   "source": [
    "## Link budget\n",
    "\n",
    "**DISCLAIMER: This code is not verified and may contain errors.**"
   ]
  },
  {
   "attachments": {},
   "cell_type": "markdown",
   "id": "a5748af8",
   "metadata": {},
   "source": [
    "Parameters:"
   ]
  },
  {
   "cell_type": "code",
   "execution_count": null,
   "id": "0103950c",
   "metadata": {},
   "outputs": [],
   "source": [
    "Prx = -129 #received power (dBm)\n",
    "Ptx = 20 #transmitter output power (dBm)\n",
    "Gtx = 1#transmitter antenna gain (dBi)\n",
    "Grx = 5 #receiver antenna gain (dBi)\n",
    "\n",
    "Ltx = 0 #transmitter losses\n",
    "Lm  = 0 #miscellaneous losses\n",
    "Lrx = 0 #receiver losses "
   ]
  },
  {
   "cell_type": "code",
   "execution_count": null,
   "id": "3eab98d2",
   "metadata": {},
   "outputs": [],
   "source": [
    "import math\n",
    "\n",
    "#calculate linkbudget in dB\n",
    "def pathLoss(Prx, ptx, Gtx, Grx, Ltx=0, Lm=0, Lrx=0):\n",
    "    Lfs = Ptx-Prx+Gtx-Ltx-Lm+Grx-Lrx\n",
    "    return Lfs\n",
    "\n",
    "#distance in km\n",
    "def distanceCalc(pathLoss, frequency = 433):\n",
    "    dist = (10**(pathLoss / 20)) / (4* math.pi * frequency / 299.792458)\n",
    "    dist /= 1000\n",
    "    return dist"
   ]
  },
  {
   "cell_type": "code",
   "execution_count": null,
   "id": "145cb901",
   "metadata": {},
   "outputs": [],
   "source": [
    "p = pathLoss(Prx, Ptx,Gtx,Grx, Ltx, Lm, Lrx)\n",
    "print(f\"{p}dB\")"
   ]
  },
  {
   "cell_type": "code",
   "execution_count": null,
   "id": "728b6423",
   "metadata": {},
   "outputs": [],
   "source": [
    "distanceCalc(p)"
   ]
  }
 ],
 "metadata": {
  "kernelspec": {
   "display_name": "Python 3",
   "language": "python",
   "name": "python3"
  },
  "language_info": {
   "codemirror_mode": {
    "name": "ipython",
    "version": 3
   },
   "file_extension": ".py",
   "mimetype": "text/x-python",
   "name": "python",
   "nbconvert_exporter": "python",
   "pygments_lexer": "ipython3",
   "version": "3.10.3"
  },
  "vscode": {
   "interpreter": {
    "hash": "cbf9c5d4eb0dc186c38d382e738fd9a1998925bbfe4b64238d30a6312da07f05"
   }
  }
 },
 "nbformat": 4,
 "nbformat_minor": 5
}
