{
 "cells": [
  {
   "attachments": {},
   "cell_type": "markdown",
   "metadata": {},
   "source": [
    "**DISCLAIMER: This code is not verified and may contain errors.**"
   ]
  },
  {
   "cell_type": "code",
   "execution_count": null,
   "metadata": {},
   "outputs": [],
   "source": [
    "import numpy as np\n",
    "import matplotlib.pyplot as plt\n",
    "\n",
    "G = 6.67408e-11 #       Gravitational constant\n",
    "M_Earth = 5.972e24 #    Mass of the Earth\n",
    "R_Earth = 6378e3 #      Radius of the Earth\n",
    "hight = 420e3 #         Hight of the satellite\n",
    "\n",
    "def velocity(hight):\n",
    "    \"\"\"\n",
    "    Calculates the velocity of the satellite at a given hight.\n",
    "    \"\"\"\n",
    "    return np.sqrt(G*M_Earth / (R_Earth + hight))\n",
    "\n",
    "def doppler_shift(frequency, angle, hight, degrees=False):\n",
    "    \"\"\"\n",
    "    Calculates the doppler shift (in kHz) for a given frequency at a given angle (above the horizen) at a given hight.\n",
    "    \"\"\"\n",
    "    if degrees:\n",
    "        angle = angle * np.pi / 180\n",
    "    return (frequency * velocity(hight) / 3e8 * R_Earth / (R_Earth + hight) * np.cos(angle))/1e3\n",
    "\n",
    "#plot the doppler shift in function of the angle for 146 MHz, 435 MHz and 2400 MHz at 420 km\n",
    "angles = np.linspace(0, 180, 100)\n",
    "\n",
    "plt.plot(angles, doppler_shift(146e6, angles, hight, True), label='146 MHz')\n",
    "plt.plot(angles, doppler_shift(435e6, angles, hight, True), label='435 MHz')\n",
    "plt.plot(angles, doppler_shift(2400e6, angles, hight, True), label='2400 MHz')\n",
    "plt.xlabel('Angle above the horizen (degrees)')\n",
    "plt.ylabel('Doppler shift (kHz)')\n",
    "\n",
    "# Save as .tex file\n",
    "'''\n",
    "import tikzplotlib\n",
    "tikzplotlib.save(\"doppler_shift.tex\")\n",
    "'''"
   ]
  }
 ],
 "metadata": {
  "kernelspec": {
   "display_name": "Python 3",
   "language": "python",
   "name": "python3"
  },
  "language_info": {
   "codemirror_mode": {
    "name": "ipython",
    "version": 3
   },
   "file_extension": ".py",
   "mimetype": "text/x-python",
   "name": "python",
   "nbconvert_exporter": "python",
   "pygments_lexer": "ipython3",
   "version": "3.10.3"
  },
  "orig_nbformat": 4
 },
 "nbformat": 4,
 "nbformat_minor": 2
}
